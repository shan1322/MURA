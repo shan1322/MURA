{
 "cells": [
  {
   "cell_type": "code",
   "execution_count": 1,
   "metadata": {},
   "outputs": [
    {
     "name": "stderr",
     "output_type": "stream",
     "text": [
      "c:\\users\\shantanu\\appdata\\local\\programs\\python\\python36\\lib\\site-packages\\h5py\\__init__.py:36: FutureWarning: Conversion of the second argument of issubdtype from `float` to `np.floating` is deprecated. In future, it will be treated as `np.float64 == np.dtype(float).type`.\n",
      "  from ._conv import register_converters as _register_converters\n",
      "Using TensorFlow backend.\n"
     ]
    }
   ],
   "source": [
    "import numpy as np\n",
    "from keras import layers\n",
    "from keras.layers import Input, Add, Dense, Activation, ZeroPadding2D, BatchNormalization, Flatten, Conv2D, AveragePooling2D, MaxPooling2D, GlobalMaxPooling2D\n",
    "from keras.models import Model, load_model\n",
    "from keras.preprocessing import image\n",
    "from keras.utils import layer_utils\n",
    "from keras.utils.data_utils import get_file\n",
    "from keras.applications.imagenet_utils import preprocess_input\n",
    "import pydot\n",
    "from IPython.display import SVG\n",
    "from keras.utils.vis_utils import model_to_dot\n",
    "from keras.utils import plot_model\n",
    "from keras.initializers import glorot_uniform\n",
    "import scipy.misc\n",
    "from keras.utils import to_categorical\n",
    "from matplotlib.pyplot import imshow\n",
    "import matplotlib.pyplot as plt\n",
    "%matplotlib inline\n",
    "import pandas as pd\n",
    "import PIL.Image\n",
    "import skimage\n",
    "import tensorflow as tf\n",
    "import keras.backend as K\n",
    "from keras.utils import to_categorical\n",
    "K.set_image_data_format('channels_last')\n",
    "K.set_learning_phase(1)"
   ]
  },
  {
   "cell_type": "code",
   "execution_count": 2,
   "metadata": {
    "scrolled": false
   },
   "outputs": [],
   "source": [
    "#data preprocess\n",
    "def preprocess(data):\n",
    "    img = image.load_img(data, target_size=(227,227,2))\n",
    "    x = image.img_to_array(img)\n",
    "    return x\n",
    "    "
   ]
  },
  {
   "cell_type": "code",
   "execution_count": 3,
   "metadata": {},
   "outputs": [],
   "source": [
    "#dataload\n",
    "df=pd.read_excel('train_image_paths.xlsx',sheetname=\"train_image_paths\")\n",
    "X_train=[]\n",
    "Y_train=[]\n",
    "X_test=[]\n",
    "Y_test=[]\n",
    "feature=df['X'].tolist()\n",
    "label=df['Y'].tolist()\n",
    "for i in range(0,10000):\n",
    "    X_train.append(preprocess(feature[i]))\n",
    "    Y_train.append(label[i])\n",
    "for i in range(10000,10020):\n",
    "    X_test.append(preprocess(feature[i]))\n",
    "    Y_test.append((label[i]))\n",
    "X_train=np.array(X_train)\n",
    "Y_train=np.array(Y_train)\n",
    "X_test=np.array(X_test)\n",
    "Y_test=np.array(Y_test)\n",
    "\n",
    "\n",
    "    "
   ]
  },
  {
   "cell_type": "code",
   "execution_count": 4,
   "metadata": {},
   "outputs": [],
   "source": [
    "def mModel(input_shape):#Alex net architecture \n",
    "    X_input = Input(input_shape)\n",
    "    # CONv1\n",
    "    X = ZeroPadding2D((5, 5))(X_input)\n",
    "    X = Conv2D(9, (11, 11), strides = (4, 4), name = 'conv0')(X)\n",
    "    X = BatchNormalization(axis = 1, name = 'bn0')(X)\n",
    "    X = Activation('relu')(X)\n",
    "    # MAXPOOL1\n",
    "    X = MaxPooling2D((2, 2),strides=(2,2),name='max_pool')(X)\n",
    "    #Conv layer 2\n",
    "    X = Conv2D(128, (5, 5), strides = (2, 2), name = 'conv1')(X)\n",
    "    X = BatchNormalization(axis = 1, name = 'bn1')(X)\n",
    "    X = Activation('relu')(X)\n",
    "    #MAX pool2\n",
    "    X = MaxPooling2D((2, 2),strides=(2,2),name='max_pool1')(X)\n",
    "    #Conv layer 3\n",
    "    X = Conv2D(256, (3, 3), strides = (2, 2), name = 'conv2')(X)##MIght trying for padding confused if padding allowed in between\n",
    "    X = BatchNormalization(axis = 1, name = 'bn2')(X)\n",
    "    X = Activation('relu')(X)\n",
    "    #MAX pool3\n",
    "    X = MaxPooling2D((2, 2),strides=(2,2),name='max_pool2')(X)\n",
    "    # FLATTEN=FULLYCONNECTED\n",
    "    X = Flatten()(X)\n",
    "    X = Dense(1, activation='sigmoid', name='fc')(X)\n",
    "    model = Model(inputs = X_input, outputs = X, name='mModel')\n",
    "    return model"
   ]
  },
  {
   "cell_type": "code",
   "execution_count": 5,
   "metadata": {},
   "outputs": [],
   "source": [
    "MModel = mModel(X_train.shape[1:])"
   ]
  },
  {
   "cell_type": "code",
   "execution_count": 6,
   "metadata": {},
   "outputs": [],
   "source": [
    "MModel.compile('adam', 'binary_crossentropy', metrics=['accuracy'])"
   ]
  },
  {
   "cell_type": "code",
   "execution_count": 7,
   "metadata": {
    "scrolled": true
   },
   "outputs": [
    {
     "name": "stdout",
     "output_type": "stream",
     "text": [
      "Epoch 1/5\n",
      "10000/10000 [==============================] - 317s 32ms/step - loss: 0.6865 - acc: 0.6012\n",
      "Epoch 2/5\n",
      "10000/10000 [==============================] - 302s 30ms/step - loss: 0.6490 - acc: 0.6120\n",
      "Epoch 3/5\n",
      "10000/10000 [==============================] - 303s 30ms/step - loss: 0.6407 - acc: 0.6171\n",
      "Epoch 4/5\n",
      "10000/10000 [==============================] - 299s 30ms/step - loss: 0.6338 - acc: 0.6230\n",
      "Epoch 5/5\n",
      "10000/10000 [==============================] - 302s 30ms/step - loss: 0.6299 - acc: 0.6243\n"
     ]
    },
    {
     "data": {
      "text/plain": [
       "<keras.callbacks.History at 0x1a326152f60>"
      ]
     },
     "execution_count": 7,
     "metadata": {},
     "output_type": "execute_result"
    }
   ],
   "source": [
    "\n",
    "MModel.fit(x=X_train,y=Y_train,epochs=5,batch_size=50)"
   ]
  },
  {
   "cell_type": "code",
   "execution_count": 8,
   "metadata": {},
   "outputs": [
    {
     "name": "stdout",
     "output_type": "stream",
     "text": [
      "20/20 [==============================] - 1s 30ms/step\n",
      "\n",
      "Loss = 0.28480586409568787\n",
      "Test Accuracy = 1.0\n"
     ]
    }
   ],
   "source": [
    "preds = MModel.evaluate(x=X_test,y=Y_test)\n",
    "print()\n",
    "print (\"Loss = \" + str(preds[0]))\n",
    "print (\"Test Accuracy = \" + str(preds[1]))"
   ]
  },
  {
   "cell_type": "code",
   "execution_count": 9,
   "metadata": {},
   "outputs": [
    {
     "data": {
      "text/plain": [
       "array([[1.],\n",
       "       [1.],\n",
       "       [1.],\n",
       "       [1.],\n",
       "       [1.],\n",
       "       [1.],\n",
       "       [1.],\n",
       "       [1.],\n",
       "       [1.],\n",
       "       [1.],\n",
       "       [1.],\n",
       "       [1.],\n",
       "       [1.],\n",
       "       [1.],\n",
       "       [1.],\n",
       "       [1.],\n",
       "       [1.],\n",
       "       [1.],\n",
       "       [1.],\n",
       "       [1.]])"
      ]
     },
     "execution_count": 9,
     "metadata": {},
     "output_type": "execute_result"
    }
   ],
   "source": [
    "to_categorical(MModel.predict(X_test))"
   ]
  },
  {
   "cell_type": "code",
   "execution_count": 10,
   "metadata": {},
   "outputs": [
    {
     "name": "stdout",
     "output_type": "stream",
     "text": [
      "_________________________________________________________________\n",
      "Layer (type)                 Output Shape              Param #   \n",
      "=================================================================\n",
      "input_1 (InputLayer)         (None, 227, 227, 3)       0         \n",
      "_________________________________________________________________\n",
      "zero_padding2d_1 (ZeroPaddin (None, 237, 237, 3)       0         \n",
      "_________________________________________________________________\n",
      "conv0 (Conv2D)               (None, 57, 57, 9)         3276      \n",
      "_________________________________________________________________\n",
      "bn0 (BatchNormalization)     (None, 57, 57, 9)         228       \n",
      "_________________________________________________________________\n",
      "activation_1 (Activation)    (None, 57, 57, 9)         0         \n",
      "_________________________________________________________________\n",
      "max_pool (MaxPooling2D)      (None, 28, 28, 9)         0         \n",
      "_________________________________________________________________\n",
      "conv1 (Conv2D)               (None, 12, 12, 128)       28928     \n",
      "_________________________________________________________________\n",
      "bn1 (BatchNormalization)     (None, 12, 12, 128)       48        \n",
      "_________________________________________________________________\n",
      "activation_2 (Activation)    (None, 12, 12, 128)       0         \n",
      "_________________________________________________________________\n",
      "max_pool1 (MaxPooling2D)     (None, 6, 6, 128)         0         \n",
      "_________________________________________________________________\n",
      "conv2 (Conv2D)               (None, 2, 2, 256)         295168    \n",
      "_________________________________________________________________\n",
      "bn2 (BatchNormalization)     (None, 2, 2, 256)         8         \n",
      "_________________________________________________________________\n",
      "activation_3 (Activation)    (None, 2, 2, 256)         0         \n",
      "_________________________________________________________________\n",
      "max_pool2 (MaxPooling2D)     (None, 1, 1, 256)         0         \n",
      "_________________________________________________________________\n",
      "flatten_1 (Flatten)          (None, 256)               0         \n",
      "_________________________________________________________________\n",
      "fc (Dense)                   (None, 1)                 257       \n",
      "=================================================================\n",
      "Total params: 327,913\n",
      "Trainable params: 327,771\n",
      "Non-trainable params: 142\n",
      "_________________________________________________________________\n"
     ]
    }
   ],
   "source": [
    "MModel.summary()"
   ]
  },
  {
   "cell_type": "code",
   "execution_count": null,
   "metadata": {},
   "outputs": [],
   "source": []
  },
  {
   "cell_type": "code",
   "execution_count": null,
   "metadata": {},
   "outputs": [],
   "source": []
  }
 ],
 "metadata": {
  "kernelspec": {
   "display_name": "Python 3",
   "language": "python",
   "name": "python3"
  },
  "language_info": {
   "codemirror_mode": {
    "name": "ipython",
    "version": 3
   },
   "file_extension": ".py",
   "mimetype": "text/x-python",
   "name": "python",
   "nbconvert_exporter": "python",
   "pygments_lexer": "ipython3",
   "version": "3.6.5"
  }
 },
 "nbformat": 4,
 "nbformat_minor": 2
}
