{
 "cells": [
  {
   "cell_type": "code",
   "execution_count": 1,
   "metadata": {},
   "outputs": [
    {
     "name": "stderr",
     "output_type": "stream",
     "text": [
      "c:\\users\\shantanu\\appdata\\local\\programs\\python\\python36\\lib\\site-packages\\h5py\\__init__.py:36: FutureWarning: Conversion of the second argument of issubdtype from `float` to `np.floating` is deprecated. In future, it will be treated as `np.float64 == np.dtype(float).type`.\n",
      "  from ._conv import register_converters as _register_converters\n",
      "Using TensorFlow backend.\n"
     ]
    }
   ],
   "source": [
    "import numpy as np\n",
    "from keras import layers\n",
    "from keras.layers import Input, Add, Dense, Activation, ZeroPadding2D, BatchNormalization, Flatten, Conv2D, AveragePooling2D, MaxPooling2D, GlobalMaxPooling2D\n",
    "from keras.models import Model, load_model\n",
    "from keras.preprocessing import image\n",
    "from keras.utils import layer_utils\n",
    "from keras.utils.data_utils import get_file\n",
    "from keras.applications.imagenet_utils import preprocess_input\n",
    "import pydot\n",
    "from IPython.display import SVG\n",
    "from keras.utils.vis_utils import model_to_dot\n",
    "from keras.utils import plot_model\n",
    "from keras.initializers import glorot_uniform\n",
    "import scipy.misc\n",
    "from keras.utils import to_categorical\n",
    "from matplotlib.pyplot import imshow\n",
    "import matplotlib.pyplot as plt\n",
    "%matplotlib inline\n",
    "import pandas as pd\n",
    "import PIL.Image\n",
    "import skimage\n",
    "import tensorflow as tf\n",
    "import keras.backend as K\n",
    "K.set_image_data_format('channels_last')\n",
    "K.set_learning_phase(1)"
   ]
  },
  {
   "cell_type": "code",
   "execution_count": 52,
   "metadata": {
    "scrolled": false
   },
   "outputs": [],
   "source": [
    "#load data\n",
    "df=pd.read_excel('train_image_paths.xlsx',sheetname=\"train_image_paths\")\n",
    "data=df['X'].tolist()\n",
    "label=df['Y'].tolist()\n",
    "X_train=[]\n",
    "Y_train=[]\n",
    "for i in range(0,3000):#preprocessing and load\n",
    "    x=PIL.Image.open(data[i]).convert('LA')\n",
    "    x=x.resize((227,227),PIL.Image.ANTIALIAS)\n",
    "    a=np.array(x)\n",
    "   # plt.imshow(a/255)#random train data mura dataset\n",
    "    X_train.append(a)\n",
    "    Y_train.append(label[i])\n",
    "X_train=np.array(X_train)\n",
    "Y_train=np.array(Y_train)\n"
   ]
  },
  {
   "cell_type": "code",
   "execution_count": 53,
   "metadata": {},
   "outputs": [],
   "source": [
    "def mModel(input_shape):#Alex net architecture \n",
    "    X_input = Input(input_shape)\n",
    "    # CONv1\n",
    "    X = ZeroPadding2D((5, 5))(X_input)\n",
    "    X = Conv2D(9, (11, 11), strides = (4, 4), name = 'conv0')(X)\n",
    "    X = BatchNormalization(axis = 1, name = 'bn0')(X)\n",
    "    X = Activation('relu')(X)\n",
    "    # MAXPOOL1\n",
    "    X = MaxPooling2D((2, 2),strides=(2,2),name='max_pool')(X)\n",
    "    #Conv layer 2\n",
    "    X = Conv2D(25, (5, 5), strides = (2, 2), name = 'conv1')(X)\n",
    "    X = BatchNormalization(axis = 1, name = 'bn1')(X)\n",
    "    X = Activation('relu')(X)\n",
    "    #MAX pool2\n",
    "    X = MaxPooling2D((2, 2),strides=(2,2),name='max_pool1')(X)\n",
    "    #Conv layer 3\n",
    "    X = Conv2D(256, (3, 3), strides = (2, 2), name = 'conv2')(X)\n",
    "    X = BatchNormalization(axis = 1, name = 'bn2')(X)\n",
    "    X = Activation('relu')(X)\n",
    "    #MAX pool3\n",
    "    X = MaxPooling2D((2, 2),strides=(2,2),name='max_pool2')(X)\n",
    "    # FLATTEN=FULLYCONNECTED\n",
    "    X = Flatten()(X)\n",
    "    X = Dense(1, activation='sigmoid', name='fc')(X)\n",
    "    model = Model(inputs = X_input, outputs = X, name='mModel')\n",
    "    return model"
   ]
  },
  {
   "cell_type": "code",
   "execution_count": 54,
   "metadata": {},
   "outputs": [],
   "source": [
    "MModel = mModel(X_train.shape[1:])"
   ]
  },
  {
   "cell_type": "code",
   "execution_count": 55,
   "metadata": {},
   "outputs": [],
   "source": [
    "MModel.compile('adam', 'binary_crossentropy', metrics=['accuracy'])"
   ]
  },
  {
   "cell_type": "code",
   "execution_count": 56,
   "metadata": {
    "scrolled": true
   },
   "outputs": [
    {
     "name": "stdout",
     "output_type": "stream",
     "text": [
      "Epoch 1/50\n",
      "3000/3000 [==============================] - 64s 21ms/step - loss: 0.6550 - acc: 0.6590\n",
      "Epoch 2/50\n",
      "3000/3000 [==============================] - 62s 21ms/step - loss: 0.6394 - acc: 0.6690\n",
      "Epoch 3/50\n",
      "3000/3000 [==============================] - 62s 21ms/step - loss: 0.6336 - acc: 0.6687\n",
      "Epoch 4/50\n",
      "3000/3000 [==============================] - 62s 21ms/step - loss: 0.6264 - acc: 0.6677\n",
      "Epoch 5/50\n",
      "3000/3000 [==============================] - 62s 21ms/step - loss: 0.6406 - acc: 0.6627\n",
      "Epoch 6/50\n",
      "3000/3000 [==============================] - 62s 21ms/step - loss: 0.6264 - acc: 0.6697\n",
      "Epoch 7/50\n",
      "3000/3000 [==============================] - 63s 21ms/step - loss: 0.6281 - acc: 0.6697\n",
      "Epoch 8/50\n",
      "3000/3000 [==============================] - 62s 21ms/step - loss: 0.6150 - acc: 0.6743\n",
      "Epoch 9/50\n",
      "3000/3000 [==============================] - 62s 21ms/step - loss: 0.6151 - acc: 0.6777\n",
      "Epoch 10/50\n",
      "3000/3000 [==============================] - 62s 21ms/step - loss: 0.6078 - acc: 0.6873\n",
      "Epoch 11/50\n",
      "3000/3000 [==============================] - 63s 21ms/step - loss: 0.6137 - acc: 0.6760\n",
      "Epoch 12/50\n",
      "3000/3000 [==============================] - 62s 21ms/step - loss: 0.6116 - acc: 0.6813\n",
      "Epoch 13/50\n",
      "3000/3000 [==============================] - 62s 21ms/step - loss: 0.5981 - acc: 0.6903\n",
      "Epoch 14/50\n",
      "3000/3000 [==============================] - 62s 21ms/step - loss: 0.5943 - acc: 0.7000\n",
      "Epoch 15/50\n",
      "3000/3000 [==============================] - 62s 21ms/step - loss: 0.5935 - acc: 0.6913\n",
      "Epoch 16/50\n",
      "3000/3000 [==============================] - 63s 21ms/step - loss: 0.5885 - acc: 0.6987\n",
      "Epoch 17/50\n",
      "3000/3000 [==============================] - 63s 21ms/step - loss: 0.5934 - acc: 0.7090\n",
      "Epoch 18/50\n",
      "3000/3000 [==============================] - 62s 21ms/step - loss: 0.5844 - acc: 0.7007\n",
      "Epoch 19/50\n",
      "3000/3000 [==============================] - 62s 21ms/step - loss: 0.5776 - acc: 0.7003\n",
      "Epoch 20/50\n",
      "3000/3000 [==============================] - 62s 21ms/step - loss: 0.5693 - acc: 0.7060\n",
      "Epoch 21/50\n",
      "3000/3000 [==============================] - 62s 21ms/step - loss: 0.5709 - acc: 0.7070\n",
      "Epoch 22/50\n",
      "3000/3000 [==============================] - 62s 21ms/step - loss: 0.5569 - acc: 0.7233\n",
      "Epoch 23/50\n",
      "3000/3000 [==============================] - 62s 21ms/step - loss: 0.5493 - acc: 0.7297\n",
      "Epoch 24/50\n",
      "3000/3000 [==============================] - 62s 21ms/step - loss: 0.5414 - acc: 0.7303\n",
      "Epoch 25/50\n",
      "3000/3000 [==============================] - 63s 21ms/step - loss: 0.5386 - acc: 0.7330\n",
      "Epoch 26/50\n",
      "3000/3000 [==============================] - 62s 21ms/step - loss: 0.5215 - acc: 0.7390\n",
      "Epoch 27/50\n",
      "3000/3000 [==============================] - 62s 21ms/step - loss: 0.5060 - acc: 0.7583\n",
      "Epoch 28/50\n",
      "3000/3000 [==============================] - 62s 21ms/step - loss: 0.5004 - acc: 0.7570\n",
      "Epoch 29/50\n",
      "3000/3000 [==============================] - 62s 21ms/step - loss: 0.4929 - acc: 0.7540\n",
      "Epoch 30/50\n",
      "3000/3000 [==============================] - 63s 21ms/step - loss: 0.4789 - acc: 0.7723\n",
      "Epoch 31/50\n",
      "3000/3000 [==============================] - 62s 21ms/step - loss: 0.4612 - acc: 0.7820\n",
      "Epoch 32/50\n",
      "3000/3000 [==============================] - 62s 21ms/step - loss: 0.4604 - acc: 0.7900\n",
      "Epoch 33/50\n",
      "3000/3000 [==============================] - 62s 21ms/step - loss: 0.4462 - acc: 0.7897\n",
      "Epoch 34/50\n",
      "3000/3000 [==============================] - 62s 21ms/step - loss: 0.4207 - acc: 0.8077\n",
      "Epoch 35/50\n",
      "3000/3000 [==============================] - 62s 21ms/step - loss: 0.4021 - acc: 0.8173\n",
      "Epoch 36/50\n",
      "3000/3000 [==============================] - 62s 21ms/step - loss: 0.3800 - acc: 0.8340\n",
      "Epoch 37/50\n",
      "3000/3000 [==============================] - 62s 21ms/step - loss: 0.3702 - acc: 0.8337\n",
      "Epoch 38/50\n",
      "3000/3000 [==============================] - 63s 21ms/step - loss: 0.3654 - acc: 0.8390\n",
      "Epoch 39/50\n",
      "3000/3000 [==============================] - 63s 21ms/step - loss: 0.3354 - acc: 0.8613\n",
      "Epoch 40/50\n",
      "3000/3000 [==============================] - 63s 21ms/step - loss: 0.3193 - acc: 0.8643\n",
      "Epoch 41/50\n",
      "3000/3000 [==============================] - 62s 21ms/step - loss: 0.3062 - acc: 0.8743\n",
      "Epoch 42/50\n",
      "3000/3000 [==============================] - 63s 21ms/step - loss: 0.3201 - acc: 0.8557\n",
      "Epoch 43/50\n",
      "3000/3000 [==============================] - 62s 21ms/step - loss: 0.2820 - acc: 0.8897\n",
      "Epoch 44/50\n",
      "3000/3000 [==============================] - 64s 21ms/step - loss: 0.2625 - acc: 0.8980\n",
      "Epoch 45/50\n",
      "3000/3000 [==============================] - 66s 22ms/step - loss: 0.2561 - acc: 0.8983\n",
      "Epoch 46/50\n",
      "3000/3000 [==============================] - 64s 21ms/step - loss: 0.2260 - acc: 0.9150\n",
      "Epoch 47/50\n",
      "3000/3000 [==============================] - 66s 22ms/step - loss: 0.2220 - acc: 0.9180\n",
      "Epoch 48/50\n",
      "3000/3000 [==============================] - 63s 21ms/step - loss: 0.2126 - acc: 0.9200\n",
      "Epoch 49/50\n",
      "3000/3000 [==============================] - 63s 21ms/step - loss: 0.1818 - acc: 0.9380\n",
      "Epoch 50/50\n",
      "3000/3000 [==============================] - 63s 21ms/step - loss: 0.1919 - acc: 0.9273\n"
     ]
    },
    {
     "data": {
      "text/plain": [
       "<keras.callbacks.History at 0x203ed3685f8>"
      ]
     },
     "execution_count": 56,
     "metadata": {},
     "output_type": "execute_result"
    }
   ],
   "source": [
    "MModel.fit(x=X_train,y=Y_train,epochs=50,batch_size=50)"
   ]
  },
  {
   "cell_type": "code",
   "execution_count": 61,
   "metadata": {},
   "outputs": [],
   "source": [
    "#test data\n",
    "X_test=[]\n",
    "Y_test=[]\n",
    "for i in range(0,100):\n",
    "    x=PIL.Image.open(data[i+20000]).convert('LA')\n",
    "    x=x.resize((227,227),PIL.Image.ANTIALIAS)\n",
    "    a=np.array(x)\n",
    "    X_test.append(a)\n",
    "    Y_test.append(label[i+10000])\n",
    "X_test=np.array(X_test)\n",
    "Y_test=np.array(Y_test)\n",
    "    "
   ]
  },
  {
   "cell_type": "code",
   "execution_count": 62,
   "metadata": {},
   "outputs": [
    {
     "name": "stdout",
     "output_type": "stream",
     "text": [
      "100/100 [==============================] - 1s 12ms/step\n",
      "\n",
      "Loss = 2.6560801124572753\n",
      "Test Accuracy = 0.32\n"
     ]
    }
   ],
   "source": [
    "preds = MModel.evaluate(x=X_test,y=Y_test)\n",
    "print()\n",
    "print (\"Loss = \" + str(preds[0]))\n",
    "print (\"Test Accuracy = \" + str(preds[1]))"
   ]
  },
  {
   "cell_type": "code",
   "execution_count": 66,
   "metadata": {},
   "outputs": [
    {
     "data": {
      "image/png": "[encoded data removed]",
      "text/plain": [
       "<Figure size 432x288 with 1 Axes>"
      ]
     },
     "metadata": {},
     "output_type": "display_data"
    }
   ],
   "source": [
    "x=PIL.Image.open(data[15001]).convert('LA')\n",
    "plt.imshow(x)\n",
    "x=x.resize((227,227),PIL.Image.ANTIALIAS)\n",
    "a=np.array(x)\n"
   ]
  },
  {
   "cell_type": "code",
   "execution_count": null,
   "metadata": {},
   "outputs": [],
   "source": []
  }
 ],
 "metadata": {
  "kernelspec": {
   "display_name": "Python 3",
   "language": "python",
   "name": "python3"
  },
  "language_info": {
   "codemirror_mode": {
    "name": "ipython",
    "version": 3
   },
   "file_extension": ".py",
   "mimetype": "text/x-python",
   "name": "python",
   "nbconvert_exporter": "python",
   "pygments_lexer": "ipython3",
   "version": "3.6.5"
  }
 },
 "nbformat": 4,
 "nbformat_minor": 2
}
