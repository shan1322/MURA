{
 "cells": [
  {
   "cell_type": "code",
   "execution_count": 1,
   "metadata": {},
   "outputs": [
    {
     "name": "stderr",
     "output_type": "stream",
     "text": [
      "c:\\users\\shantanu\\appdata\\local\\programs\\python\\python36\\lib\\site-packages\\h5py\\__init__.py:36: FutureWarning: Conversion of the second argument of issubdtype from `float` to `np.floating` is deprecated. In future, it will be treated as `np.float64 == np.dtype(float).type`.\n",
      "  from ._conv import register_converters as _register_converters\n",
      "Using TensorFlow backend.\n"
     ]
    }
   ],
   "source": [
    "import numpy as np\n",
    "from keras import layers\n",
    "from keras.layers import Input, Add, Dense, Activation, ZeroPadding2D, BatchNormalization, Flatten, Conv2D, AveragePooling2D, MaxPooling2D, GlobalMaxPooling2D\n",
    "from keras.models import Model, load_model\n",
    "from keras.preprocessing import image\n",
    "from keras.utils import layer_utils\n",
    "from keras.utils.data_utils import get_file\n",
    "from keras.applications.imagenet_utils import preprocess_input\n",
    "import pydot\n",
    "from IPython.display import SVG\n",
    "from keras.utils.vis_utils import model_to_dot\n",
    "from keras.utils import plot_model\n",
    "from keras.initializers import glorot_uniform\n",
    "import scipy.misc\n",
    "from keras.utils import to_categorical\n",
    "from matplotlib.pyplot import imshow\n",
    "import matplotlib.pyplot as plt\n",
    "%matplotlib inline\n",
    "import pandas as pd\n",
    "import PIL.Image\n",
    "import skimage\n",
    "import tensorflow as tf\n",
    "import keras.backend as K\n",
    "K.set_image_data_format('channels_last')\n",
    "K.set_learning_phase(1)"
   ]
  },
  {
   "cell_type": "code",
   "execution_count": 10,
   "metadata": {
    "scrolled": false
   },
   "outputs": [],
   "source": [
    "#load data\n",
    "df=pd.read_excel('train_image_paths.xlsx',sheetname=\"train_image_paths\")\n",
    "data=df['X'].tolist()\n",
    "label=df['Y'].tolist()\n",
    "X_train=[]\n",
    "Y_train=[]\n",
    "for i in range(0,1000):\n",
    "    x=PIL.Image.open(data[i]).convert('LA')\n",
    "    x=x.resize((227,227),PIL.Image.ANTIALIAS)\n",
    "    a=np.array(x)\n",
    "   # plt.imshow(a/255)#random train data mura dataset\n",
    "    X_train.append(a)\n",
    "    Y_train.append(label[i])\n",
    "X_train=np.array(X_train)\n",
    "Y_train=np.array(Y_train)\n"
   ]
  },
  {
   "cell_type": "code",
   "execution_count": 17,
   "metadata": {},
   "outputs": [],
   "source": [
    "def mModel(input_shape):#Alex net architecture \n",
    "    X_input = Input(input_shape)\n",
    "    # CONv1\n",
    "    X = Conv2D(9, (11, 11), strides = (4, 4), name = 'conv0')(X_input)\n",
    "    X = BatchNormalization(axis = 1, name = 'bn0')(X)\n",
    "    X = Activation('relu')(X)\n",
    "    # MAXPOOL1\n",
    "    X = MaxPooling2D((2, 2),strides=(2,2),name='max_pool')(X)\n",
    "    #Conv layer 2\n",
    "    X = Conv2D(25, (5, 5), strides = (4, 4), name = 'conv1')(X)\n",
    "    X = BatchNormalization(axis = 1, name = 'bn1')(X)\n",
    "    X = Activation('relu')(X)\n",
    "    #MAX pool2\n",
    "    X = MaxPooling2D((3, 3),strides=(2,2),name='max_pool1')(X)\n",
    "    # FLATTEN=FULLYCONNECTED\n",
    "    X = Flatten()(X)\n",
    "    X = Dense(1, activation='sigmoid', name='fc')(X)\n",
    "    model = Model(inputs = X_input, outputs = X, name='mModel')\n",
    "    return model"
   ]
  },
  {
   "cell_type": "code",
   "execution_count": 18,
   "metadata": {},
   "outputs": [],
   "source": [
    "MModel = mModel(X_train.shape[1:])"
   ]
  },
  {
   "cell_type": "code",
   "execution_count": 19,
   "metadata": {},
   "outputs": [],
   "source": [
    "MModel.compile('adam', 'binary_crossentropy', metrics=['accuracy'])"
   ]
  },
  {
   "cell_type": "code",
   "execution_count": 20,
   "metadata": {
    "scrolled": true
   },
   "outputs": [
    {
     "name": "stdout",
     "output_type": "stream",
     "text": [
      "Epoch 1/50\n",
      "1000/1000 [==============================] - 17s 17ms/step - loss: 0.7083 - acc: 0.5300\n",
      "Epoch 2/50\n",
      "1000/1000 [==============================] - 16s 16ms/step - loss: 0.6915 - acc: 0.5510\n",
      "Epoch 3/50\n",
      "1000/1000 [==============================] - 16s 16ms/step - loss: 0.6881 - acc: 0.5520\n",
      "Epoch 4/50\n",
      "1000/1000 [==============================] - 16s 16ms/step - loss: 0.6860 - acc: 0.5560\n",
      "Epoch 5/50\n",
      "1000/1000 [==============================] - 16s 16ms/step - loss: 0.6867 - acc: 0.5600\n",
      "Epoch 6/50\n",
      "1000/1000 [==============================] - 16s 16ms/step - loss: 0.6863 - acc: 0.5550\n",
      "Epoch 7/50\n",
      "1000/1000 [==============================] - 16s 16ms/step - loss: 0.6826 - acc: 0.5540\n",
      "Epoch 8/50\n",
      "1000/1000 [==============================] - 15s 15ms/step - loss: 0.6743 - acc: 0.5730\n",
      "Epoch 9/50\n",
      "1000/1000 [==============================] - 16s 16ms/step - loss: 0.6733 - acc: 0.5710\n",
      "Epoch 10/50\n",
      "1000/1000 [==============================] - 16s 16ms/step - loss: 0.6687 - acc: 0.5810\n",
      "Epoch 11/50\n",
      "1000/1000 [==============================] - 16s 16ms/step - loss: 0.6642 - acc: 0.6010\n",
      "Epoch 12/50\n",
      "1000/1000 [==============================] - 16s 16ms/step - loss: 0.6694 - acc: 0.5670\n",
      "Epoch 13/50\n",
      "1000/1000 [==============================] - 16s 16ms/step - loss: 0.6633 - acc: 0.5930\n",
      "Epoch 14/50\n",
      "1000/1000 [==============================] - 15s 15ms/step - loss: 0.6723 - acc: 0.5580\n",
      "Epoch 15/50\n",
      "1000/1000 [==============================] - 16s 16ms/step - loss: 0.6559 - acc: 0.6230\n",
      "Epoch 16/50\n",
      "1000/1000 [==============================] - 17s 17ms/step - loss: 0.6521 - acc: 0.6210\n",
      "Epoch 17/50\n",
      "1000/1000 [==============================] - 17s 17ms/step - loss: 0.6596 - acc: 0.5980\n",
      "Epoch 18/50\n",
      "1000/1000 [==============================] - 16s 16ms/step - loss: 0.6463 - acc: 0.6360\n",
      "Epoch 19/50\n",
      "1000/1000 [==============================] - 16s 16ms/step - loss: 0.6456 - acc: 0.6460\n",
      "Epoch 20/50\n",
      "1000/1000 [==============================] - 16s 16ms/step - loss: 0.6373 - acc: 0.6390\n",
      "Epoch 21/50\n",
      "1000/1000 [==============================] - 16s 16ms/step - loss: 0.6373 - acc: 0.6410\n",
      "Epoch 22/50\n",
      "1000/1000 [==============================] - 16s 16ms/step - loss: 0.6501 - acc: 0.5990\n",
      "Epoch 23/50\n",
      "1000/1000 [==============================] - 15s 15ms/step - loss: 0.6341 - acc: 0.6570\n",
      "Epoch 24/50\n",
      "1000/1000 [==============================] - 17s 17ms/step - loss: 0.6280 - acc: 0.6480\n",
      "Epoch 25/50\n",
      "1000/1000 [==============================] - 16s 16ms/step - loss: 0.6228 - acc: 0.6700\n",
      "Epoch 26/50\n",
      "1000/1000 [==============================] - 15s 15ms/step - loss: 0.6298 - acc: 0.6550\n",
      "Epoch 27/50\n",
      "1000/1000 [==============================] - 16s 16ms/step - loss: 0.6392 - acc: 0.6290\n",
      "Epoch 28/50\n",
      "1000/1000 [==============================] - 16s 16ms/step - loss: 0.6267 - acc: 0.6530\n",
      "Epoch 29/50\n",
      "1000/1000 [==============================] - 18s 18ms/step - loss: 0.6185 - acc: 0.6760\n",
      "Epoch 30/50\n",
      "1000/1000 [==============================] - 16s 16ms/step - loss: 0.6249 - acc: 0.6530\n",
      "Epoch 31/50\n",
      "1000/1000 [==============================] - 16s 16ms/step - loss: 0.6197 - acc: 0.6670\n",
      "Epoch 32/50\n",
      "1000/1000 [==============================] - 16s 16ms/step - loss: 0.6114 - acc: 0.6710\n",
      "Epoch 33/50\n",
      "1000/1000 [==============================] - 16s 16ms/step - loss: 0.6035 - acc: 0.6690\n",
      "Epoch 34/50\n",
      "1000/1000 [==============================] - 16s 16ms/step - loss: 0.6038 - acc: 0.6740\n",
      "Epoch 35/50\n",
      "1000/1000 [==============================] - 16s 16ms/step - loss: 0.5963 - acc: 0.6890\n",
      "Epoch 36/50\n",
      "1000/1000 [==============================] - 16s 16ms/step - loss: 0.5944 - acc: 0.6800\n",
      "Epoch 37/50\n",
      "1000/1000 [==============================] - 16s 16ms/step - loss: 0.5898 - acc: 0.6890\n",
      "Epoch 38/50\n",
      "1000/1000 [==============================] - 17s 17ms/step - loss: 0.5768 - acc: 0.7110\n",
      "Epoch 39/50\n",
      "1000/1000 [==============================] - 16s 16ms/step - loss: 0.5854 - acc: 0.6960\n",
      "Epoch 40/50\n",
      "1000/1000 [==============================] - 16s 16ms/step - loss: 0.5893 - acc: 0.6970\n",
      "Epoch 41/50\n",
      "1000/1000 [==============================] - 16s 16ms/step - loss: 0.5750 - acc: 0.7020\n",
      "Epoch 42/50\n",
      "1000/1000 [==============================] - 16s 16ms/step - loss: 0.5821 - acc: 0.6850\n",
      "Epoch 43/50\n",
      "1000/1000 [==============================] - 16s 16ms/step - loss: 0.5701 - acc: 0.7150\n",
      "Epoch 44/50\n",
      "1000/1000 [==============================] - 16s 16ms/step - loss: 0.5679 - acc: 0.6960\n",
      "Epoch 45/50\n",
      "1000/1000 [==============================] - 17s 17ms/step - loss: 0.5639 - acc: 0.7160\n",
      "Epoch 46/50\n",
      "1000/1000 [==============================] - 18s 18ms/step - loss: 0.5531 - acc: 0.7210\n",
      "Epoch 47/50\n",
      "1000/1000 [==============================] - 17s 17ms/step - loss: 0.5641 - acc: 0.7210\n",
      "Epoch 48/50\n",
      "1000/1000 [==============================] - 17s 17ms/step - loss: 0.5538 - acc: 0.7090\n",
      "Epoch 49/50\n",
      "1000/1000 [==============================] - 16s 16ms/step - loss: 0.5439 - acc: 0.7310\n",
      "Epoch 50/50\n",
      "1000/1000 [==============================] - 17s 17ms/step - loss: 0.5402 - acc: 0.7300\n"
     ]
    },
    {
     "data": {
      "text/plain": [
       "<keras.callbacks.History at 0x203ed9c4780>"
      ]
     },
     "execution_count": 20,
     "metadata": {},
     "output_type": "execute_result"
    }
   ],
   "source": [
    "MModel.fit(x=X_train,y=Y_train,epochs=50,batch_size=50)"
   ]
  },
  {
   "cell_type": "code",
   "execution_count": 21,
   "metadata": {},
   "outputs": [],
   "source": [
    "#test data\n",
    "X_test=[]\n",
    "Y_test=[]\n",
    "for i in range(0,100):\n",
    "    x=PIL.Image.open(data[i+10000]).convert('LA')\n",
    "    x=x.resize((227,227),PIL.Image.ANTIALIAS)\n",
    "    a=np.array(x)\n",
    "    X_test.append(a)\n",
    "    Y_test.append(label[i+10000])\n",
    "X_test=np.array(X_test)\n",
    "Y_test=np.array(Y_test)\n",
    "    "
   ]
  },
  {
   "cell_type": "code",
   "execution_count": 22,
   "metadata": {},
   "outputs": [
    {
     "name": "stdout",
     "output_type": "stream",
     "text": [
      "100/100 [==============================] - 1s 10ms/step\n",
      "\n",
      "Loss = 0.8907548475265503\n",
      "Test Accuracy = 0.48\n"
     ]
    }
   ],
   "source": [
    "preds = MModel.evaluate(x=X_test,y=Y_test)\n",
    "print()\n",
    "print (\"Loss = \" + str(preds[0]))\n",
    "print (\"Test Accuracy = \" + str(preds[1]))"
   ]
  },
  {
   "cell_type": "code",
   "execution_count": null,
   "metadata": {},
   "outputs": [],
   "source": []
  }
 ],
 "metadata": {
  "kernelspec": {
   "display_name": "Python 3",
   "language": "python",
   "name": "python3"
  },
  "language_info": {
   "codemirror_mode": {
    "name": "ipython",
    "version": 3
   },
   "file_extension": ".py",
   "mimetype": "text/x-python",
   "name": "python",
   "nbconvert_exporter": "python",
   "pygments_lexer": "ipython3",
   "version": "3.6.5"
  }
 },
 "nbformat": 4,
 "nbformat_minor": 2
}
