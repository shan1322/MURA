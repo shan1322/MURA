{
 "cells": [
  {
   "cell_type": "code",
   "execution_count": 1,
   "metadata": {},
   "outputs": [
    {
     "name": "stderr",
     "output_type": "stream",
     "text": [
      "c:\\users\\shantanu\\appdata\\local\\programs\\python\\python36\\lib\\site-packages\\h5py\\__init__.py:36: FutureWarning: Conversion of the second argument of issubdtype from `float` to `np.floating` is deprecated. In future, it will be treated as `np.float64 == np.dtype(float).type`.\n",
      "  from ._conv import register_converters as _register_converters\n",
      "Using TensorFlow backend.\n"
     ]
    }
   ],
   "source": [
    "import numpy as np\n",
    "from keras import layers\n",
    "from keras.layers import Input, Add, Dense, Activation, ZeroPadding2D, BatchNormalization, Flatten, Conv2D, AveragePooling2D, MaxPooling2D, GlobalMaxPooling2D\n",
    "from keras.models import Model, load_model\n",
    "from keras.preprocessing import image\n",
    "from keras.utils import layer_utils\n",
    "from keras.utils.data_utils import get_file\n",
    "from keras.applications.imagenet_utils import preprocess_input\n",
    "import pydot\n",
    "from IPython.display import SVG\n",
    "from keras.utils.vis_utils import model_to_dot\n",
    "from keras.utils import plot_model\n",
    "from keras.initializers import glorot_uniform\n",
    "import scipy.misc\n",
    "from keras.utils import to_categorical\n",
    "from matplotlib.pyplot import imshow\n",
    "import matplotlib.pyplot as plt\n",
    "%matplotlib inline\n",
    "import pandas as pd\n",
    "import PIL.Image\n",
    "import skimage\n",
    "import tensorflow as tf\n",
    "import keras.backend as K\n",
    "from keras.utils import to_categorical\n",
    "K.set_image_data_format('channels_last')\n",
    "K.set_learning_phase(1)"
   ]
  },
  {
   "cell_type": "code",
   "execution_count": 2,
   "metadata": {
    "scrolled": false
   },
   "outputs": [],
   "source": [
    "#data preprocess\n",
    "def preprocess(data):\n",
    "    img = image.load_img(data, target_size=(227,227,2))\n",
    "    x = image.img_to_array(img)\n",
    "    return x\n",
    "    "
   ]
  },
  {
   "cell_type": "code",
   "execution_count": null,
   "metadata": {},
   "outputs": [],
   "source": [
    "#dataload\n",
    "df=pd.read_excel('train_image_paths.xlsx',sheetname=\"train_image_paths\")\n",
    "X_train=[]\n",
    "Y_train=[]\n",
    "X_test=[]\n",
    "Y_test=[]\n",
    "feature=df['X'].tolist()\n",
    "label=df['Y'].tolist()\n",
    "for i in range(0,10000):\n",
    "    X_train.append(preprocess(feature[i]))\n",
    "    Y_train.append(label[i])\n",
    "for i in range(10000,10050):\n",
    "    X_test.append(preprocess(feature[i]))\n",
    "    Y_test.append((label[i]))\n",
    "X_train=np.array(X_train)\n",
    "Y_train=np.array(Y_train)\n",
    "X_test=np.array(X_test)\n",
    "Y_test=np.array(Y_test)\n",
    "\n",
    "\n",
    "    "
   ]
  },
  {
   "cell_type": "code",
   "execution_count": 8,
   "metadata": {},
   "outputs": [],
   "source": [
    "def mModel(input_shape):#Alex net architecture \n",
    "    X_input = Input(input_shape)\n",
    "    # CONv1\n",
    "    X = ZeroPadding2D((5, 5))(X_input)\n",
    "    X = Conv2D(9, (11, 11), strides = (4, 4), name = 'conv0')(X)\n",
    "    X = BatchNormalization(axis = 1, name = 'bn0')(X)\n",
    "    X = Activation('relu')(X)\n",
    "    # MAXPOOL1\n",
    "    X = MaxPooling2D((2, 2),strides=(2,2),name='max_pool')(X)\n",
    "    #Conv layer 2\n",
    "    X = Conv2D(25, (5, 5), strides = (2, 2), name = 'conv1')(X)\n",
    "    X = BatchNormalization(axis = 1, name = 'bn1')(X)\n",
    "    X = Activation('relu')(X)\n",
    "    #MAX pool2\n",
    "    X = MaxPooling2D((2, 2),strides=(2,2),name='max_pool1')(X)\n",
    "    # FLATTEN=FULLYCONNECTED\n",
    "    X = Flatten()(X)\n",
    "    X = Dense(1, activation='sigmoid', name='fc')(X)\n",
    "    model = Model(inputs = X_input, outputs = X, name='mModel')\n",
    "    return model"
   ]
  },
  {
   "cell_type": "code",
   "execution_count": 9,
   "metadata": {},
   "outputs": [],
   "source": [
    "MModel = mModel(X_train.shape[1:])"
   ]
  },
  {
   "cell_type": "code",
   "execution_count": 10,
   "metadata": {},
   "outputs": [],
   "source": [
    "MModel.compile('adam', 'binary_crossentropy', metrics=['accuracy'])"
   ]
  },
  {
   "cell_type": "code",
   "execution_count": 11,
   "metadata": {
    "scrolled": true
   },
   "outputs": [
    {
     "name": "stdout",
     "output_type": "stream",
     "text": [
      "Epoch 1/5\n",
      "10000/10000 [==============================] - 264s 26ms/step - loss: 0.6510 - acc: 0.6007\n",
      "Epoch 2/5\n",
      "10000/10000 [==============================] - 272s 27ms/step - loss: 0.6385 - acc: 0.6112\n",
      "Epoch 3/5\n",
      "10000/10000 [==============================] - 285s 28ms/step - loss: 0.6319 - acc: 0.6259\n",
      "Epoch 4/5\n",
      "10000/10000 [==============================] - 298s 30ms/step - loss: 0.6295 - acc: 0.6312\n",
      "Epoch 5/5\n",
      "10000/10000 [==============================] - 249s 25ms/step - loss: 0.6223 - acc: 0.6447\n"
     ]
    },
    {
     "data": {
      "text/plain": [
       "<keras.callbacks.History at 0x1d909d4b7b8>"
      ]
     },
     "execution_count": 11,
     "metadata": {},
     "output_type": "execute_result"
    }
   ],
   "source": [
    "\n",
    "MModel.fit(x=X_train,y=Y_train,epochs=5,batch_size=50)"
   ]
  },
  {
   "cell_type": "code",
   "execution_count": null,
   "metadata": {},
   "outputs": [],
   "source": [
    "preds = MModel.evaluate(x=X_test,y=Y_test)\n",
    "print()\n",
    "print (\"Loss = \" + str(preds[0]))\n",
    "print (\"Test Accuracy = \" + str(preds[1]))"
   ]
  },
  {
   "cell_type": "code",
   "execution_count": null,
   "metadata": {},
   "outputs": [],
   "source": [
    "to_categorical(MModel.predict(X_test))"
   ]
  },
  {
   "cell_type": "code",
   "execution_count": 14,
   "metadata": {},
   "outputs": [
    {
     "name": "stdout",
     "output_type": "stream",
     "text": [
      "_________________________________________________________________\n",
      "Layer (type)                 Output Shape              Param #   \n",
      "=================================================================\n",
      "input_2 (InputLayer)         (None, 227, 227, 3)       0         \n",
      "_________________________________________________________________\n",
      "zero_padding2d_2 (ZeroPaddin (None, 237, 237, 3)       0         \n",
      "_________________________________________________________________\n",
      "conv0 (Conv2D)               (None, 57, 57, 9)         3276      \n",
      "_________________________________________________________________\n",
      "bn0 (BatchNormalization)     (None, 57, 57, 9)         228       \n",
      "_________________________________________________________________\n",
      "activation_3 (Activation)    (None, 57, 57, 9)         0         \n",
      "_________________________________________________________________\n",
      "max_pool (MaxPooling2D)      (None, 28, 28, 9)         0         \n",
      "_________________________________________________________________\n",
      "conv1 (Conv2D)               (None, 12, 12, 25)        5650      \n",
      "_________________________________________________________________\n",
      "bn1 (BatchNormalization)     (None, 12, 12, 25)        48        \n",
      "_________________________________________________________________\n",
      "activation_4 (Activation)    (None, 12, 12, 25)        0         \n",
      "_________________________________________________________________\n",
      "max_pool1 (MaxPooling2D)     (None, 6, 6, 25)          0         \n",
      "_________________________________________________________________\n",
      "flatten_2 (Flatten)          (None, 900)               0         \n",
      "_________________________________________________________________\n",
      "fc (Dense)                   (None, 1)                 901       \n",
      "=================================================================\n",
      "Total params: 10,103\n",
      "Trainable params: 9,965\n",
      "Non-trainable params: 138\n",
      "_________________________________________________________________\n"
     ]
    }
   ],
   "source": [
    "MModel.summary()"
   ]
  },
  {
   "cell_type": "code",
   "execution_count": null,
   "metadata": {},
   "outputs": [],
   "source": []
  },
  {
   "cell_type": "code",
   "execution_count": null,
   "metadata": {},
   "outputs": [],
   "source": []
  }
 ],
 "metadata": {
  "kernelspec": {
   "display_name": "Python 3",
   "language": "python",
   "name": "python3"
  },
  "language_info": {
   "codemirror_mode": {
    "name": "ipython",
    "version": 3
   },
   "file_extension": ".py",
   "mimetype": "text/x-python",
   "name": "python",
   "nbconvert_exporter": "python",
   "pygments_lexer": "ipython3",
   "version": "3.6.5"
  }
 },
 "nbformat": 4,
 "nbformat_minor": 2
}
